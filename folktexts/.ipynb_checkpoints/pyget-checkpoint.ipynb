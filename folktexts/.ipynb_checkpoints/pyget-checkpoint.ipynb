{
 "cells": [
  {
   "cell_type": "code",
   "execution_count": 34,
   "metadata": {
    "collapsed": false
   },
   "outputs": [
    {
     "name": "stdout",
     "output_type": "stream",
     "text": [
      "['varmints.html', 'thumb.html', 'sweet.html', 'sopdoll.html', 'sop_doll.html', 'soldier.html', 'robbers.html', 'nwwind.html', 'king.html', 'hunt.html', 'giants.html', 'fillbowl.html', 'dragaman.html', 'cat-n-mouse1.html', 'butthead.html', 'bull.html', 'bean.html', '..']\n"
     ]
    }
   ],
   "source": [
    "import urllib.request\n",
    "from bs4 import BeautifulSoup\n",
    "import re\n",
    "\n",
    "myurl = \"http://www.ibiblio.org/bawdy/folklore/tales.html\"\n",
    "myfilter = \"http://www.ibiblio.org/bawdy/folklore/\"\n",
    "mydirectory = \"/Users/john/Code/folktexts/\"\n",
    "\n",
    "myconnection = urllib.request.urlopen(myurl)\n",
    "myhtml = myconnection.read()\n",
    "mysoup = BeautifulSoup(myhtml, \"lxml\")\n",
    "mylinks = mysoup.find_all('a')\n",
    "\n",
    "all_links = []\n",
    "for tag in mylinks:\n",
    "    link = tag.get('href',None)\n",
    "    if link is not None:\n",
    "        all_links.append(link)\n",
    "        \n",
    "links = sorted(list(set(all_links)), reverse=True)\n",
    "\n",
    "regex = re.compile('^(.*/)([^/]*)$')\n",
    "thelinks = [x for x in links if not regex.match(x)]\n",
    "\n",
    "print(thelinks)"
   ]
  },
  {
   "cell_type": "code",
   "execution_count": 53,
   "metadata": {
    "collapsed": false
   },
   "outputs": [],
   "source": [
    "import html2text\n",
    "\n",
    "for link in thelinks:\n",
    "    remotefile = urllib.request.urlopen(myfilter+link).read()\n",
    "    soup = BeautifulSoup(remotefile, \"lxml\")\n",
    "    text = html2text.html2text(str(soup))\n",
    "    localfile = open(mydirectory+link.replace(myfilter, '').strip(\".html\")+\".txt\",'wt')\n",
    "    localfile.write(str(text))\n",
    "    localfile.close()"
   ]
  },
  {
   "cell_type": "markdown",
   "metadata": {},
   "source": [
    "**Scratch Work Below**"
   ]
  },
  {
   "cell_type": "code",
   "execution_count": 51,
   "metadata": {
    "collapsed": false
   },
   "outputs": [
    {
     "name": "stdout",
     "output_type": "stream",
     "text": [
      "/Users/john/Code/folktexts/varmints.txt\n"
     ]
    }
   ],
   "source": [
    "alink = thelinks[0]\n",
    "the_file = mydirectory+alink.replace(myfilter, '').strip(\".html\")+\".txt\"\n",
    "\n",
    "print(the_file)"
   ]
  }
 ],
 "metadata": {
  "kernelspec": {
   "display_name": "Python 3",
   "language": "python",
   "name": "python3"
  },
  "language_info": {
   "codemirror_mode": {
    "name": "ipython",
    "version": 3
   },
   "file_extension": ".py",
   "mimetype": "text/x-python",
   "name": "python",
   "nbconvert_exporter": "python",
   "pygments_lexer": "ipython3",
   "version": "3.4.4"
  }
 },
 "nbformat": 4,
 "nbformat_minor": 0
}
